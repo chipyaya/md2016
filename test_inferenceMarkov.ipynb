{
 "cells": [
  {
   "cell_type": "code",
   "execution_count": 2,
   "metadata": {
    "collapsed": false
   },
   "outputs": [],
   "source": [
    "import numpy as np\n",
    "\n",
    "from pgmpy.models import FactorGraph\n",
    "from pgmpy.models import MarkovModel\n",
    "from pgmpy.models import BayesianModel\n",
    "from pgmpy.factors.discrete import DiscreteFactor\n",
    "from pgmpy.factors import Factor\n",
    "from pgmpy.inference import Sampling"
   ]
  },
  {
   "cell_type": "code",
   "execution_count": 3,
   "metadata": {
    "collapsed": false
   },
   "outputs": [
    {
     "name": "stdout",
     "output_type": "stream",
     "text": [
      "True\n"
     ]
    },
    {
     "data": {
      "text/plain": [
       "[<DiscreteFactor representing phi(a:2, b:3, c:2) at 0x7f924a214f60>]"
      ]
     },
     "execution_count": 3,
     "metadata": {},
     "output_type": "execute_result"
    }
   ],
   "source": [
    "model = MarkovModel()\n",
    "model.add_nodes_from(['a', 'b', 'c'])\n",
    "phi = DiscreteFactor(['a', 'b', 'c'], [2, 3, 2], np.random.rand(12))\n",
    "model.add_factors(phi)\n",
    "model.add_edges_from([('a', 'b'), ('a', 'c'), ('c', 'b')])\n",
    "print(model.check_model())\n"
   ]
  },
  {
   "cell_type": "code",
   "execution_count": 4,
   "metadata": {
    "collapsed": false
   },
   "outputs": [
    {
     "name": "stdout",
     "output_type": "stream",
     "text": [
      "   a  c  b\n",
      "0  0  0  2\n",
      "1  1  0  1\n",
      "2  1  0  2\n",
      "3  1  0  1\n",
      "4  0  1  1\n",
      "5  0  0  0\n",
      "6  0  0  0\n",
      "7  1  1  0\n",
      "8  1  1  2\n",
      "9  1  1  2\n"
     ]
    }
   ],
   "source": [
    "gibbs = Sampling.GibbsSampling(model)\n",
    "print(gibbs.sample(size=10))"
   ]
  },
  {
   "cell_type": "code",
   "execution_count": null,
   "metadata": {
    "collapsed": true
   },
   "outputs": [],
   "source": []
  },
  {
   "cell_type": "code",
   "execution_count": 32,
   "metadata": {
    "collapsed": false
   },
   "outputs": [
    {
     "name": "stdout",
     "output_type": "stream",
     "text": [
      "2\n",
      "['b', 'c']\n",
      "[[ 0.1337195   0.51450238]\n",
      " [ 0.23683885  0.33068353]\n",
      " [ 0.18712149  0.80194524]]\n"
     ]
    }
   ],
   "source": [
    "model = MarkovModel()\n",
    "model.add_nodes_from(['a', 'b', 'c'])\n",
    "phi1 = Factor.Factor(['a', 'b'], [2, 3], [1, 2, 3, 4, 5, 6])\n",
    "phi2 = Factor.Factor(['b', 'c'], [3, 2], np.random.rand(6))\n",
    "model.add_factors(phi1)\n",
    "model.add_factors(phi2)\n",
    "model.add_edges_from([('a', 'b'), ('b', 'c')])\n",
    "#print(model.check_model())\n",
    "#print(model.markov_blanket('b'))\n",
    "\n",
    "#phi = Factor.factor_product(phi1, phi2)\n",
    "#print(phi1)\n",
    "#print(phi1.variables)\n",
    "#print(phi1.cardinality)\n",
    "phi1.values = np.array([[11, 12, 13], [14, 15, 16]])\n",
    "#print(phi1)\n",
    "print(len(model.get_factors()))\n",
    "print(model.get_factors()[1].variables)\n",
    "print(model.get_factors()[1].values)\n"
   ]
  },
  {
   "cell_type": "code",
   "execution_count": 44,
   "metadata": {
    "collapsed": false
   },
   "outputs": [
    {
     "name": "stdout",
     "output_type": "stream",
     "text": [
      "   b  c  a\n",
      "0  0  1  1\n",
      "1  2  1  1\n",
      "2  1  0  0\n",
      "3  1  0  0\n",
      "4  0  1  0\n",
      "5  2  0  0\n",
      "6  1  0  0\n",
      "7  1  1  1\n",
      "8  0  0  0\n",
      "9  1  1  0\n"
     ]
    }
   ],
   "source": [
    "gibbs = Sampling.GibbsSampling(model)\n",
    "print(gibbs.sample(size=10))"
   ]
  },
  {
   "cell_type": "code",
   "execution_count": null,
   "metadata": {
    "collapsed": true
   },
   "outputs": [],
   "source": []
  },
  {
   "cell_type": "code",
   "execution_count": null,
   "metadata": {
    "collapsed": true
   },
   "outputs": [],
   "source": []
  },
  {
   "cell_type": "code",
   "execution_count": null,
   "metadata": {
    "collapsed": true
   },
   "outputs": [],
   "source": []
  },
  {
   "cell_type": "code",
   "execution_count": null,
   "metadata": {
    "collapsed": true
   },
   "outputs": [],
   "source": []
  }
 ],
 "metadata": {
  "kernelspec": {
   "display_name": "Python 3",
   "language": "python",
   "name": "python3"
  },
  "language_info": {
   "codemirror_mode": {
    "name": "ipython",
    "version": 3
   },
   "file_extension": ".py",
   "mimetype": "text/x-python",
   "name": "python",
   "nbconvert_exporter": "python",
   "pygments_lexer": "ipython3",
   "version": "3.5.2"
  }
 },
 "nbformat": 4,
 "nbformat_minor": 1
}
