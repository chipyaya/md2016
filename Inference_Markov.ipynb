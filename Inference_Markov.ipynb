{
 "cells": [
  {
   "cell_type": "markdown",
   "metadata": {},
   "source": [
    "### This version hasn't been neither COMPILED or UNIT-TESTED"
   ]
  },
  {
   "cell_type": "code",
   "execution_count": 20,
   "metadata": {
    "collapsed": true
   },
   "outputs": [],
   "source": [
    "import pandas as pd\n",
    "import numpy as np\n",
    "\n",
    "from pgmpy.models import MarkovModel\n",
    "from pgmpy.factors import Factor\n",
    "\n",
    "from pgmpy.inference import Sampling\n",
    "\n",
    "from utils import *"
   ]
  },
  {
   "cell_type": "markdown",
   "metadata": {},
   "source": [
    "### hash functions\n",
    "Note: rmax is a fixed value, which means max(itemID)"
   ]
  },
  {
   "cell_type": "code",
   "execution_count": 21,
   "metadata": {
    "collapsed": true
   },
   "outputs": [],
   "source": [
    "'''\n",
    "def hash_agg(rID):\n",
    "    return rID * 5\n",
    "\n",
    "def hash_y(uID, rmax, rID):\n",
    "    return (uID * rmax + rID) * 5 + 1\n",
    "\n",
    "def hash_y_inv(rmax, hash_y):\n",
    "    return (((y-1)/5) % rmax, ((y-1)/5) / rmax)\n",
    "\n",
    "def hash_uID(uID):\n",
    "    return (uID * 5 + 2)\n",
    "\n",
    "def hash_rID(rID):\n",
    "    return (rID * 5 + 3)\n",
    "\n",
    "def hash_cID(cID):\n",
    "    return (cID * 5 + 4)\n",
    "'''\n",
    "\n",
    "def hash_y(uID, rmax, rID):\n",
    "    return (uID * rmax + rID)\n",
    "\n",
    "# return (uID, rID)\n",
    "def hash_y_inv(rmax, hash_y):\n",
    "    return (hash_y / rmax, hash_y % rmax)\n",
    "\n"
   ]
  },
  {
   "cell_type": "markdown",
   "metadata": {},
   "source": [
    "## inference(fh_dict, g_dict)\n",
    "\n",
    "### ARG:\n",
    "1. hf_dict[hash_y] = (h(), f())  \n",
    "這些hash_y是要建node的  \n",
    "還有candidate to count的prob.  \n",
    "還有candidate to attribute的prob.  \n",
    "\n",
    "2. g_dict[(hash_yi, hash_y2)] = g()  \n",
    "這些pair是要建link的 還有candidate to candidate的prob.  \n",
    "\n",
    "### RET:\n",
    "1. prob_dict[hash_yi] = prob. got from inference"
   ]
  },
  {
   "cell_type": "markdown",
   "metadata": {},
   "source": [
    "### nodes\n",
    "count layer: 1 node  \n",
    "candidate layer: node就看2. 有多少個index  \n",
    "attribute: 1 node  \n",
    "\n",
    "### links/factors\n",
    "count(1 node) <-> candidate: one link per hash_yi  \n",
    "candidate <-> candidate: see g_dict[(hash_yi, hash_y2)]  \n",
    "candidate(1 node) <-> attribute: one link per hash_yi  \n"
   ]
  },
  {
   "cell_type": "markdown",
   "metadata": {},
   "source": [
    "### I need\n",
    "userN: from user.txt  \n",
    "sampleN: gibbs sampling times  "
   ]
  },
  {
   "cell_type": "code",
   "execution_count": 22,
   "metadata": {
    "collapsed": false
   },
   "outputs": [],
   "source": [
    "# get userN\n",
    "def getUserN():\n",
    "    u = pd.read_csv(\"user.txt\", header = None, skipinitialspace=True)\n",
    "    return u.shape[0]\n",
    "\n",
    "# get item_list & cat_list\n",
    "def getRmax():\n",
    "    # msg: ownerUID, itemID, catID, linkCount => u(y_i), r(y_i), c(y_i), t(y_i)\n",
    "    m = pd.read_csv(\"message.txt\", sep = \"\\t\", header = None, skipinitialspace=True)\n",
    "    item_uniq = m[1].unique()\n",
    "    return max(item_uniq)\n"
   ]
  },
  {
   "cell_type": "code",
   "execution_count": 24,
   "metadata": {
    "collapsed": false
   },
   "outputs": [],
   "source": [
    "def buildModel():\n",
    "    G = MarkovModel()\n",
    "    countID = userN * rmax + 100\n",
    "    attriID = userN * rmax + 101\n",
    "    \n",
    "    G.add_nodes_from(countID, attriID)\n",
    "    \n",
    "    # is [1-p, p] in correct order\n",
    "    for y, p in fh_dict.items():\n",
    "        G.add_node(y)\n",
    "        phi = Factor.Factor([y, attriID], [2, 1], [1-p[0], p[0]])\n",
    "        G.add_factors(phi)\n",
    "        G.add_edges_from([(y, attriID)])\n",
    "        \n",
    "        phi = Factor.Factor([y, countID], [2, 1], [1-p[1], p[1]])\n",
    "        G.add_factors(phi)\n",
    "        G.add_edges_from([(y, countID)])\n",
    "        \n",
    "    for y_pair, p in g_dict.items():\n",
    "        phi = Factor.Factor([y_pair[0], y_pair[0]], [2, 2], [1-p, p, p, 1-p])\n",
    "        G.add_factors(phi)\n",
    "        G.add_edges_from([(y_pair[0], y_pair[0])])\n",
    "                            \n",
    "\n",
    "    print(G.check_model())\n",
    "    return G"
   ]
  },
  {
   "cell_type": "code",
   "execution_count": 25,
   "metadata": {
    "collapsed": false
   },
   "outputs": [],
   "source": [
    "def GibbsInf(G, sampleN):\n",
    "    # Sampling\n",
    "    gibbs = Sampling.GibbsSampling(G)\n",
    "    sam = gibbs.sample(size=sampleN)\n",
    "    #print(sam)\n",
    "    #print(sam.iloc[[sampleN-1]])\n",
    "    #print(sam[21].iloc[[sampleN-1]])\n",
    "    \n",
    "    # Inference\n",
    "    p_dict = {}\n",
    "    for yi in fh_dict.keys():\n",
    "        v0 = 1\n",
    "        v1 = 1\n",
    "        for nb in G.markov_blanket(yi):\n",
    "            # only care the link between candidates when inferencing\n",
    "            if (nb != countID) & (nb != attriID):\n",
    "                # is this correct?\n",
    "                v0 *= g_dict[(yi, nb)] if (sam[nb].iloc[[sampleN-1]] == 0) else 1 - g_dict[(yi, nb)]\n",
    "                v1 *= g_dict[(yi, nb)] if (sam[nb].iloc[[sampleN-1]] == 1) else 1 - g_dict[(yi, nb)]\n",
    "\n",
    "        p_dict[yi] = v1 / (v0 + v1)\n",
    "        \n",
    "    return p_dict\n",
    "\n"
   ]
  },
  {
   "cell_type": "code",
   "execution_count": 23,
   "metadata": {
    "collapsed": true
   },
   "outputs": [],
   "source": [
    "def inference(fh_dict, g_dict):\n",
    "    G = buildModel()\n",
    "    # sampleN=?\n",
    "    p_dict = GibbsInf(G, 3)\n",
    "    return p_dict\n",
    "    "
   ]
  }
 ],
 "metadata": {
  "kernelspec": {
   "display_name": "Python 3",
   "language": "python",
   "name": "python3"
  },
  "language_info": {
   "codemirror_mode": {
    "name": "ipython",
    "version": 3
   },
   "file_extension": ".py",
   "mimetype": "text/x-python",
   "name": "python",
   "nbconvert_exporter": "python",
   "pygments_lexer": "ipython3",
   "version": "3.5.2"
  }
 },
 "nbformat": 4,
 "nbformat_minor": 1
}
