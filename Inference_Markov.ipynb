{
 "cells": [
  {
   "cell_type": "markdown",
   "metadata": {},
   "source": [
    "### This version hasn't been neither COMPILED or UNIT-TESTED"
   ]
  },
  {
   "cell_type": "code",
   "execution_count": 12,
   "metadata": {
    "collapsed": false
   },
   "outputs": [],
   "source": [
    "import pandas as pd\n",
    "import numpy as np\n",
    "\n",
    "from pgmpy.models import MarkovModel\n",
    "from pgmpy.factors import Factor\n",
    "\n",
    "from pgmpy.inference import Sampling\n",
    "from utils import *"
   ]
  },
  {
   "cell_type": "markdown",
   "metadata": {},
   "source": [
    "### nodes\n",
    "count layer: 1 node  \n",
    "candidate layer: node就看2. 有多少個index  \n",
    "attribute: 1 node  \n",
    "\n",
    "### links/factors\n",
    "count(1 node) <-> candidate: one link per hash_yi  \n",
    "candidate <-> candidate: see g_dict[(hash_yi, hash_y2)]  \n",
    "candidate(1 node) <-> attribute: one link per hash_yi  \n"
   ]
  },
  {
   "cell_type": "markdown",
   "metadata": {},
   "source": [
    "### I need\n",
    "userN: from user.txt  \n",
    "rmax  \n",
    "sampleN: gibbs sampling times  "
   ]
  },
  {
   "cell_type": "code",
   "execution_count": 9,
   "metadata": {
    "collapsed": false
   },
   "outputs": [],
   "source": [
    "'''\n",
    "# get userN\n",
    "def getUserN():\n",
    "    u = pd.read_csv(\"user.txt\", header = None, skipinitialspace=True)\n",
    "    return u.shape[0]\n",
    "\n",
    "# get rmax\n",
    "def getRmax():\n",
    "    # msg: ownerUID, itemID, catID, linkCount => u(y_i), r(y_i), c(y_i), t(y_i)\n",
    "    m = pd.read_csv(\"message.txt\", sep = \"\\t\", header = None, skipinitialspace=True)\n",
    "    item_uniq = m[1].unique()\n",
    "    return max(item_uniq)\n",
    "'''"
   ]
  },
  {
   "cell_type": "markdown",
   "metadata": {},
   "source": [
    "# buildModel (userN, rmax, y_list, y_pair_list)\n",
    "\n",
    "G = buildModel(y_list, y_pair_list)  \n",
    "\n",
    "Build nodes, edges, factors with random values  \n",
    "Return an MM model"
   ]
  },
  {
   "cell_type": "code",
   "execution_count": 15,
   "metadata": {
    "collapsed": false
   },
   "outputs": [],
   "source": [
    "def buildModel(userN, rmax, y_list, y_pair_list):\n",
    "    \n",
    "    countID = userN * rmax + 100\n",
    "    attriID = userN * rmax + 101\n",
    "    \n",
    "    G = MarkovModel()\n",
    "    G.add_nodes_from(countID, attriID)\n",
    "    for y in y_list:\n",
    "        G.add_node(y)\n",
    "        G.add_edges_from([(y, attriID)])\n",
    "        phi = Factor.Factor([y, attriID], [2, 1], np.random.rand(2))\n",
    "        G.add_factors(phi)\n",
    "        \n",
    "        G.add_edges_from([(y, countID)])\n",
    "        phi = Factor.Factor([y, countID], [2, 1], np.random.rand(2))\n",
    "        G.add_factors(phi)\n",
    "        \n",
    "    for y_pair in y_pair_list:\n",
    "        G.add_edges_from([(y_pair[0], y_pair[1])])\n",
    "        phi = Factor.Factor([y_pair[0], y_pair[1]], [2, 2], np.random.rand(4))\n",
    "        G.add_factors(phi)\n",
    "        \n",
    "    print(G.check_model())\n",
    "    return G"
   ]
  },
  {
   "cell_type": "markdown",
   "metadata": {},
   "source": [
    "## inference(G, refreshAll, fh_dict, g_dict)\n",
    "\n",
    "更新fgh  \n",
    "G, P = inference(G, True, fh_dict, g_dict)  \n",
    "只更新 h  \n",
    "G, P = inference(G, False, fh_dict, False)  \n",
    "\n",
    "### ARG:\n",
    "1. hf_dict[hash_y] = (h(), f())  \n",
    "這些hash_y是要建node的  \n",
    "還有candidate to count的prob.  \n",
    "還有candidate to attribute的prob.  \n",
    "\n",
    "2. g_dict[(hash_yi, hash_y2)] = g()  \n",
    "這些pair是要建link的 還有candidate to candidate的prob.  \n",
    "\n",
    "### RET:\n",
    "1. prob_dict[hash_yi] = prob. got from inference"
   ]
  },
  {
   "cell_type": "code",
   "execution_count": 11,
   "metadata": {
    "collapsed": false
   },
   "outputs": [],
   "source": [
    "def factor_assign_values(G, refreshAll, fh_dict, g_dict):\n",
    "    Factors = G.get_factors()\n",
    "    \n",
    "    if refreshAll:\n",
    "        index = 0\n",
    "        # assign new values to factors in the same order\n",
    "        for y, p in fh_dict.items():\n",
    "            Factors[index].values = np.array([[1-p[0]], [p[0]]])\n",
    "            index = index + 1\n",
    "            Factors[index].values = np.array([[1-p[1]], [p[1]]])\n",
    "            index = index + 1\n",
    "\n",
    "        for y_pair, p in g_dict.items():\n",
    "            Factors[index].values = np.array([[p, 1-p], [1-p, p]])\n",
    "            index = index + 1\n",
    "\n",
    "        if(len(Factors) != index):\n",
    "            print('assign wrongly!')\n",
    "            sys.exit(0)\n",
    "    else: \n",
    "        #only refresh h\n",
    "        for y, p in fh_dict.items():\n",
    "            index = index + 1\n",
    "            Factors[index].values = np.array([[1-p[1]], [p[1]]])\n",
    "            "
   ]
  },
  {
   "cell_type": "code",
   "execution_count": 12,
   "metadata": {
    "collapsed": false
   },
   "outputs": [],
   "source": [
    "def GibbsInf(G, sampleN):\n",
    "    # Sampling\n",
    "    gibbs = Sampling.GibbsSampling(G)\n",
    "    sam = gibbs.sample(size=sampleN)\n",
    "    #print(sam)\n",
    "    #print(sam.iloc[[sampleN-1]])\n",
    "    #print(sam[21].iloc[[sampleN-1]])\n",
    "    \n",
    "    # Inference\n",
    "    p_dict = {}\n",
    "    for yi in fh_dict.keys():\n",
    "        v0 = 1\n",
    "        v1 = 1\n",
    "        for nb in G.markov_blanket(yi):\n",
    "            # only care the link between candidates when inferencing\n",
    "            if (nb != countID) & (nb != attriID):\n",
    "                # is this correct?\n",
    "                v0 *= g_dict[(yi, nb)] if (sam[nb].iloc[[sampleN-1]] == 0) else 1 - g_dict[(yi, nb)]\n",
    "                v1 *= g_dict[(yi, nb)] if (sam[nb].iloc[[sampleN-1]] == 1) else 1 - g_dict[(yi, nb)]\n",
    "\n",
    "        p_dict[yi] = v1 / (v0 + v1)\n",
    "        \n",
    "    return p_dict"
   ]
  },
  {
   "cell_type": "code",
   "execution_count": 13,
   "metadata": {
    "collapsed": true
   },
   "outputs": [],
   "source": [
    "def inference(G, refreshAll, fh_dict, g_dict):\n",
    "    factor_assign_values(G, refreshAll, fh_dict, g_dict)\n",
    "    # sampleN=?\n",
    "    p_dict = GibbsInf(G, 3)\n",
    "    return G, p_dict\n",
    "    "
   ]
  },
  {
   "cell_type": "code",
   "execution_count": null,
   "metadata": {
    "collapsed": true
   },
   "outputs": [],
   "source": []
  }
 ],
 "metadata": {
  "kernelspec": {
   "display_name": "Python 3",
   "language": "python",
   "name": "python3"
  },
  "language_info": {
   "codemirror_mode": {
    "name": "ipython",
    "version": 3
   },
   "file_extension": ".py",
   "mimetype": "text/x-python",
   "name": "python",
   "nbconvert_exporter": "python",
   "pygments_lexer": "ipython3",
   "version": "3.5.2"
  }
 },
 "nbformat": 4,
 "nbformat_minor": 1
}
