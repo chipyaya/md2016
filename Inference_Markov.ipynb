{
 "cells": [
  {
   "cell_type": "code",
   "execution_count": null,
   "metadata": {
    "collapsed": true
   },
   "outputs": [],
   "source": [
    "import pandas as pd\n",
    "import numpy as np\n",
    "\n",
    "#from pgmpy.models import FactorGraph\n",
    "from pgmpy.models import MarkovModel\n",
    "#from pgmpy.models import BayesianModel\n",
    "#from pgmpy.factors.discrete import DiscreteFactor\n",
    "from pgmpy.factors import Factor\n",
    "\n",
    "from pgmpy.inference import Sampling"
   ]
  },
  {
   "cell_type": "code",
   "execution_count": 40,
   "metadata": {
    "collapsed": true
   },
   "outputs": [],
   "source": [
    "sampleN = 3"
   ]
  },
  {
   "cell_type": "code",
   "execution_count": 41,
   "metadata": {
    "collapsed": false
   },
   "outputs": [
    {
     "name": "stdout",
     "output_type": "stream",
     "text": [
      "   0\n",
      "0  0\n",
      "1  1\n",
      "2  2\n",
      "   0  1\n",
      "0  1  2\n",
      "1  2  0\n",
      "2  2  1\n",
      "   0  1   2  3\n",
      "0  1  4  82  1\n",
      "1  1  5  35  0\n",
      "2  1  6  22  2\n",
      "3  2  7   9  0\n",
      "4  2  4  72  0\n",
      "5  0  7  96  1\n"
     ]
    }
   ],
   "source": [
    "# userIDs: u[i]\n",
    "u = pd.read_csv(\"user_s.txt\", header = None, skipinitialspace=True)\n",
    "user = u[0].as_matrix()\n",
    "\n",
    "userN = len(user)\n",
    "\n",
    "# userRelations (directed): relation[i][0] -> relation[i][1]\n",
    "r = pd.read_csv(\"relation_s.txt\", sep = \"\\t\", header = None, skipinitialspace=True)\n",
    "relationN = r.shape[0]\n",
    "relation = r.as_matrix()\n",
    "\n",
    "\n",
    "# msg: ownerUID, itemID, catID, linkCount => u(y_i), r(y_i), c(y_i), t(y_i)\n",
    "m = pd.read_csv(\"message_s.txt\", sep = \"\\t\", header = None, skipinitialspace=True)\n",
    "mN = m.shape[0]\n",
    "msg = m.as_matrix()\n",
    "\n",
    "rmax = max(m[1].unique())\n",
    "\n",
    "print(u)\n",
    "print(r)\n",
    "print(m)"
   ]
  },
  {
   "cell_type": "code",
   "execution_count": 42,
   "metadata": {
    "collapsed": false
   },
   "outputs": [
    {
     "name": "stdout",
     "output_type": "stream",
     "text": [
      "[20, 25, 30, 35]\n",
      "[21, 26, 31, 36, 56, 61, 66, 71, 91, 96, 101, 106]\n",
      "[2, 7, 12]\n",
      "[23, 28, 33, 38]\n",
      "[414, 179, 114, 49, 364, 484]\n",
      "[(0, 7, 4, 21), (0, 7, 5, 26), (0, 7, 6, 31), (0, 7, 7, 36), (1, 7, 4, 56), (1, 7, 5, 61), (1, 7, 6, 66), (1, 7, 7, 71), (2, 7, 4, 91), (2, 7, 5, 96), (2, 7, 6, 101), (2, 7, 7, 106)]\n"
     ]
    }
   ],
   "source": [
    "aggName = [rID * 5 for rID in m[1].unique()]\n",
    "yName = [(uID * rmax + rID) * 5 + 1 for uID in u[0].unique() for rID in m[1].unique() ]\n",
    "userName = [uID * 5 + 2 for uID in u[0].unique()]\n",
    "itemName = [rID * 5 + 3 for rID in m[1].unique()]\n",
    "catName = [cID * 5 + 4 for cID in m[2].unique()]\n",
    "\n",
    "aggN = len(aggName)\n",
    "yN = len(yName)\n",
    "userN = len(userName)\n",
    "itemN = len(itemName)\n",
    "catN = len(catName)\n",
    "\n",
    "print(aggName)\n",
    "print(yName)\n",
    "print(userName)\n",
    "print(itemName)\n",
    "print(catName)\n",
    "\n",
    "#print([(uID, rmax, rID, (uID * rmax + rID) * 5 + 1) for uID in u[0].unique() for rID in m[1].unique() ])\n"
   ]
  },
  {
   "cell_type": "code",
   "execution_count": 43,
   "metadata": {
    "collapsed": false
   },
   "outputs": [
    {
     "name": "stdout",
     "output_type": "stream",
     "text": [
      "True\n"
     ]
    }
   ],
   "source": [
    "# PGM - FactorGraph (undirected)\n",
    "#G = FactorGraph()\n",
    "#G = BayesianModel()\n",
    "G = MarkovModel()\n",
    "G.add_nodes_from(aggName)\n",
    "G.add_nodes_from(yName)\n",
    "G.add_nodes_from(itemName)\n",
    "G.add_nodes_from(userName)\n",
    "G.add_nodes_from(catName)\n",
    "print(G.check_model())\n"
   ]
  },
  {
   "cell_type": "code",
   "execution_count": 70,
   "metadata": {
    "collapsed": false
   },
   "outputs": [],
   "source": [
    "PHI = {}\n",
    "for y in yName:\n",
    "    PHI[y] = []\n"
   ]
  },
  {
   "cell_type": "code",
   "execution_count": 111,
   "metadata": {
    "collapsed": false
   },
   "outputs": [
    {
     "name": "stdout",
     "output_type": "stream",
     "text": [
      "True\n"
     ]
    }
   ],
   "source": [
    "# count <-> candidate\n",
    "\n",
    "for tID in m[1].unique():\n",
    "    for uID in u[0].unique():\n",
    "        (a, b) = (tID * 5, (uID * rmax + tID) * 5 + 1)\n",
    "        # f[a][b][0][0/1]\n",
    "        phi = Factor.Factor([a, b], [1, 2], np.random.rand(2))\n",
    "        G.add_factors(phi)\n",
    "        PHI[b].append(phi)\n",
    "        G.add_edges_from([(a,b)])\n",
    "        \n",
    "print(G.check_model())\n",
    "\n"
   ]
  },
  {
   "cell_type": "code",
   "execution_count": 112,
   "metadata": {
    "collapsed": false
   },
   "outputs": [
    {
     "name": "stdout",
     "output_type": "stream",
     "text": [
      "True\n"
     ]
    }
   ],
   "source": [
    "# candidate <-> candidate\n",
    "for i in range(0, relationN):\n",
    "    #print(relation[i][0], relation[i][1])\n",
    "    for j in range(0, itemN):\n",
    "        for k in range(0, itemN):\n",
    "            (a, b) = ((relation[i][0] * rmax + m[1].unique()[j]) * 5 + 1, (relation[i][1] * rmax + m[1].unique()[j]) * 5 + 1)\n",
    "            # g[a][b][0/1][0/1]\n",
    "            phi = Factor.Factor([a, b], [2, 2], np.random.rand(4))\n",
    "            G.add_factors(phi)\n",
    "            PHI[a].append(phi)\n",
    "            PHI[b].append(phi)\n",
    "            \n",
    "            G.add_edges_from([(a, b)])\n",
    "\n",
    "print(G.check_model())\n",
    "\n"
   ]
  },
  {
   "cell_type": "code",
   "execution_count": 113,
   "metadata": {
    "collapsed": false
   },
   "outputs": [
    {
     "name": "stdout",
     "output_type": "stream",
     "text": [
      "True\n"
     ]
    }
   ],
   "source": [
    "# attribute <-> candidate\n",
    "#print(r2u_dict)\n",
    "for i in range(0, mN):\n",
    "    (a, b, c, d) = ((msg[i][0] * rmax + msg[i][1]) * 5 + 1, msg[i][0] * 5 + 2, msg[i][1] * 5 + 3, msg[i][2] * 5 + 4)\n",
    "    # h[a][b][c][d][0/1]\n",
    "    phi = Factor.Factor([a, b, c, d], [2, 1, 1, 1], np.random.rand(2))\n",
    "    G.add_factors(phi)\n",
    "    PHI[a].append(phi)\n",
    "    G.add_edges_from([(a,b), (b,c), (c,d), (d, a), (a, c), (b, d)])\n",
    "\n",
    "print(G.check_model())\n",
    "\n"
   ]
  },
  {
   "cell_type": "code",
   "execution_count": 114,
   "metadata": {
    "collapsed": false
   },
   "outputs": [
    {
     "name": "stdout",
     "output_type": "stream",
     "text": [
      "╒══════╤══════╤══════════════╕\n",
      "│ 20   │ 21   │   phi(20,21) │\n",
      "╞══════╪══════╪══════════════╡\n",
      "│ 20_0 │ 21_0 │       0.1014 │\n",
      "├──────┼──────┼──────────────┤\n",
      "│ 20_0 │ 21_1 │       0.9682 │\n",
      "╘══════╧══════╧══════════════╛\n"
     ]
    }
   ],
   "source": [
    "print(PHI[21][1])"
   ]
  },
  {
   "cell_type": "code",
   "execution_count": 103,
   "metadata": {
    "collapsed": false
   },
   "outputs": [
    {
     "name": "stdout",
     "output_type": "stream",
     "text": [
      "   66   71   484  12   2    20   21   23   25   26  ...   38   106  7    364  \\\n",
      "0    1    1    0    0    0    0    0    0    0    0 ...     0    1    0    0   \n",
      "1    0    0    0    0    0    0    1    0    0    1 ...     0    1    0    0   \n",
      "2    1    0    0    0    0    0    1    0    0    1 ...     0    1    0    0   \n",
      "\n",
      "   49   114  179  414  56   61   \n",
      "0    0    0    0    0    0    0  \n",
      "1    0    0    0    0    1    1  \n",
      "2    0    0    0    0    1    1  \n",
      "\n",
      "[3 rows x 29 columns]\n"
     ]
    }
   ],
   "source": [
    "# Sampling\n",
    "gibbs = Sampling.GibbsSampling(G)\n",
    "\n",
    "sam = gibbs.sample(size=sampleN)\n",
    "print(sam)"
   ]
  },
  {
   "cell_type": "code",
   "execution_count": 110,
   "metadata": {
    "collapsed": false
   },
   "outputs": [
    {
     "name": "stdout",
     "output_type": "stream",
     "text": [
      "   66   71   484  12   2    20   21   23   25   26  ...   38   106  7    364  \\\n",
      "2    1    0    0    0    0    0    1    0    0    1 ...     0    1    0    0   \n",
      "\n",
      "   49   114  179  414  56   61   \n",
      "2    0    0    0    0    1    1  \n",
      "\n",
      "[1 rows x 29 columns]\n",
      "2    1\n",
      "Name: 21, dtype: int64\n"
     ]
    }
   ],
   "source": [
    "print(sam.iloc[[sampleN-1]])\n",
    "\n",
    "print(sam[21].iloc[[sampleN-1]])\n"
   ]
  },
  {
   "cell_type": "code",
   "execution_count": 102,
   "metadata": {
    "collapsed": false
   },
   "outputs": [
    {
     "name": "stdout",
     "output_type": "stream",
     "text": [
      "[20, 25, 30, 35]\n",
      "[21, 26, 31, 36, 56, 61, 66, 71, 91, 96, 101, 106]\n",
      "[2, 7, 12]\n",
      "[23, 28, 33, 38]\n",
      "[414, 179, 114, 49, 364, 484]\n"
     ]
    }
   ],
   "source": [
    "print(aggName)\n",
    "print(yName)\n",
    "print(userName)\n",
    "print(itemName)\n",
    "print(catName)\n"
   ]
  },
  {
   "cell_type": "code",
   "execution_count": 87,
   "metadata": {
    "collapsed": false
   },
   "outputs": [
    {
     "name": "stdout",
     "output_type": "stream",
     "text": [
      "<class 'pandas.core.frame.DataFrame'>\n",
      "21 [91, 20]\n",
      "26 [96, 25]\n",
      "31 [101, 30]\n",
      "36 [106, 35, 484, 2, 38]\n",
      "56 [23, 91, 20, 414, 7]\n",
      "61 [96, 25, 179, 28, 7]\n",
      "66 [33, 114, 101, 30, 7]\n",
      "71 [106, 35]\n",
      "91 [20, 21, 23, 56, 364, 12]\n",
      "96 [25, 26, 61]\n",
      "101 [66, 30, 31]\n",
      "106 [49, 35, 36, 38, 71, 12]\n"
     ]
    }
   ],
   "source": [
    "# Inference\n",
    "p = []\n",
    "for yi in yName:\n",
    "    up = 0\n",
    "    down = 0\n",
    "    for nb in G.markov_blanket(yi):\n",
    "        # only care the link between candidates when inferencing\n",
    "        if nb%5 == 1:\n",
    "            # g[yi][nb][yi=0 or 1][nb=sample_res]\n",
    "            down += g[yi][nb][0][sam[nb].iloc[[sampleN-1]]] + g[yi][nb][1][sam[nb].iloc[[sampleN-1]]]\n",
    "            up += g[yi][nb][1][sam[nb].iloc[[sampleN-1]]]\n",
    "    \n",
    "    p[yi] = up / down\n",
    "\n",
    "print(p[yi])"
   ]
  },
  {
   "cell_type": "code",
   "execution_count": null,
   "metadata": {
    "collapsed": true
   },
   "outputs": [],
   "source": []
  }
 ],
 "metadata": {
  "kernelspec": {
   "display_name": "Python 3",
   "language": "python",
   "name": "python3"
  },
  "language_info": {
   "codemirror_mode": {
    "name": "ipython",
    "version": 3
   },
   "file_extension": ".py",
   "mimetype": "text/x-python",
   "name": "python",
   "nbconvert_exporter": "python",
   "pygments_lexer": "ipython3",
   "version": "3.5.2"
  }
 },
 "nbformat": 4,
 "nbformat_minor": 1
}
