{
 "cells": [
  {
   "cell_type": "code",
   "execution_count": 51,
   "metadata": {
    "collapsed": true
   },
   "outputs": [],
   "source": [
    "import numpy as np\n",
    "\n",
    "from pgmpy.models import FactorGraph\n",
    "from pgmpy.models import MarkovModel\n",
    "from pgmpy.models import BayesianModel\n",
    "from pgmpy.factors.discrete import DiscreteFactor\n",
    "from pgmpy.inference import Sampling"
   ]
  },
  {
   "cell_type": "code",
   "execution_count": 61,
   "metadata": {
    "collapsed": false
   },
   "outputs": [
    {
     "name": "stdout",
     "output_type": "stream",
     "text": [
      "True\n"
     ]
    }
   ],
   "source": [
    "model = MarkovModel()\n",
    "model.add_nodes_from(['a', 'b', 'c'])\n",
    "phi = DiscreteFactor(['a', 'b', 'c'], [2, 3, 2], np.random.rand(12))\n",
    "model.add_factors(phi)\n",
    "model.add_edges_from([('a', 'b'), ('a', 'c'), ('c', 'b')])\n",
    "print(model.check_model())\n"
   ]
  },
  {
   "cell_type": "code",
   "execution_count": 65,
   "metadata": {
    "collapsed": false
   },
   "outputs": [
    {
     "name": "stdout",
     "output_type": "stream",
     "text": [
      "   b  c  a\n",
      "0  1  0  1\n",
      "1  1  0  0\n",
      "2  1  1  1\n",
      "3  1  1  1\n",
      "4  1  0  1\n",
      "5  1  1  1\n",
      "6  0  0  1\n",
      "7  1  1  0\n",
      "8  2  1  0\n",
      "9  1  0  0\n"
     ]
    }
   ],
   "source": [
    "gibbs = Sampling.GibbsSampling(model)\n",
    "print(gibbs.sample(size=10))"
   ]
  },
  {
   "cell_type": "code",
   "execution_count": null,
   "metadata": {
    "collapsed": true
   },
   "outputs": [],
   "source": []
  },
  {
   "cell_type": "code",
   "execution_count": null,
   "metadata": {
    "collapsed": true
   },
   "outputs": [],
   "source": []
  }
 ],
 "metadata": {
  "kernelspec": {
   "display_name": "Python 3",
   "language": "python",
   "name": "python3"
  },
  "language_info": {
   "codemirror_mode": {
    "name": "ipython",
    "version": 3
   },
   "file_extension": ".py",
   "mimetype": "text/x-python",
   "name": "python",
   "nbconvert_exporter": "python",
   "pygments_lexer": "ipython3",
   "version": "3.5.2"
  }
 },
 "nbformat": 4,
 "nbformat_minor": 1
}
